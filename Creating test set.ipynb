{
 "cells": [
  {
   "cell_type": "markdown",
   "metadata": {},
   "source": [
    "### 1. Create class directory in test directory\n",
    "### 2. Move images from train to test directory\n"
   ]
  },
  {
   "cell_type": "code",
   "execution_count": 1,
   "metadata": {},
   "outputs": [],
   "source": [
    "import glob\n",
    "import shutil\n",
    "import os\n",
    "import matplotlib.pyplot as plt\n",
    "import seaborn as sns\n",
    "\n",
    "src_dir = \"data/train/\"\n",
    "dst_dir = \"data/test/\"\n",
    "classes = []"
   ]
  },
  {
   "cell_type": "markdown",
   "metadata": {},
   "source": [
    "#### Reading the classes in train directory"
   ]
  },
  {
   "cell_type": "code",
   "execution_count": 2,
   "metadata": {},
   "outputs": [],
   "source": [
    "\n",
    "for filename in os.listdir(src_dir):\n",
    "    classes.append(filename)"
   ]
  },
  {
   "cell_type": "code",
   "execution_count": 3,
   "metadata": {},
   "outputs": [
    {
     "name": "stdout",
     "output_type": "stream",
     "text": [
      "Number of images in human_ear = 58\n",
      "Number of images in human_eye = 163\n",
      "Number of images in human_feet = 170\n",
      "Number of images in human_finger = 171\n",
      "Number of images in human_mouth = 148\n"
     ]
    }
   ],
   "source": [
    "\n",
    "numbers = []\n",
    "for cls in classes:\n",
    "    src = src_dir + cls\n",
    "    c = 0\n",
    "    for filename in os.listdir(src):\n",
    "        c += 1\n",
    "    print(\"Number of images in\", cls, \"=\", c)\n",
    "    numbers.append(c)\n",
    "    "
   ]
  },
  {
   "cell_type": "code",
   "execution_count": 4,
   "metadata": {},
   "outputs": [],
   "source": [
    "img_classes = {}\n",
    "\n",
    "for c, n in zip(classes, numbers):\n",
    "    img_classes[c] = n"
   ]
  },
  {
   "cell_type": "code",
   "execution_count": 5,
   "metadata": {},
   "outputs": [
    {
     "data": {
      "text/plain": [
       "<matplotlib.axes._subplots.AxesSubplot at 0x15e77f55ac8>"
      ]
     },
     "execution_count": 5,
     "metadata": {},
     "output_type": "execute_result"
    },
    {
     "data": {
      "image/png": "[encoded data removed]",
      "text/plain": [
       "<Figure size 648x360 with 1 Axes>"
      ]
     },
     "metadata": {
      "needs_background": "light"
     },
     "output_type": "display_data"
    }
   ],
   "source": [
    "\n",
    "plt.figure(figsize=(9,5))\n",
    "sns.barplot(x=list(img_classes.keys()), y=list(img_classes.values()))\n"
   ]
  },
  {
   "cell_type": "code",
   "execution_count": 6,
   "metadata": {},
   "outputs": [
    {
     "data": {
      "text/plain": [
       "{'human_ear': 58,\n",
       " 'human_eye': 163,\n",
       " 'human_feet': 170,\n",
       " 'human_finger': 171,\n",
       " 'human_mouth': 148}"
      ]
     },
     "execution_count": 6,
     "metadata": {},
     "output_type": "execute_result"
    }
   ],
   "source": [
    "img_classes"
   ]
  },
  {
   "cell_type": "markdown",
   "metadata": {},
   "source": [
    "### Test images number with 75/25 split"
   ]
  },
  {
   "cell_type": "code",
   "execution_count": 7,
   "metadata": {},
   "outputs": [
    {
     "name": "stdout",
     "output_type": "stream",
     "text": [
      "Train: human_ear 8.17 %, Test:(25%) 14 images\n",
      "Train: human_eye 22.96 %, Test:(25%) 41 images\n",
      "Train: human_feet 23.94 %, Test:(25%) 42 images\n",
      "Train: human_finger 24.08 %, Test:(25%) 43 images\n",
      "Train: human_mouth 20.85 %, Test:(25%) 37 images\n"
     ]
    }
   ],
   "source": [
    "\n",
    "test_no = []\n",
    "for k, v in img_classes.items():\n",
    "    g = round(v*100/sum(img_classes.values()), 2)\n",
    "    n = round(v*0.25)\n",
    "    print(\"Train:\",k, g, \"%, Test:(25%)\", n, \"images\")\n",
    "    test_no.append(n)"
   ]
  },
  {
   "cell_type": "markdown",
   "metadata": {},
   "source": [
    "### Create class folders in test"
   ]
  },
  {
   "cell_type": "code",
   "execution_count": 8,
   "metadata": {},
   "outputs": [],
   "source": [
    "for c in classes:\n",
    "    os.mkdir(dst_dir + c)"
   ]
  },
  {
   "cell_type": "code",
   "execution_count": 9,
   "metadata": {},
   "outputs": [
    {
     "data": {
      "text/plain": [
       "{'human_ear': 14,\n",
       " 'human_eye': 41,\n",
       " 'human_feet': 42,\n",
       " 'human_finger': 43,\n",
       " 'human_mouth': 37}"
      ]
     },
     "execution_count": 9,
     "metadata": {},
     "output_type": "execute_result"
    }
   ],
   "source": [
    "test_classes = {}\n",
    "\n",
    "for k, v in zip(classes, test_no):\n",
    "    test_classes[k] = v\n",
    "\n",
    "test_classes"
   ]
  },
  {
   "cell_type": "code",
   "execution_count": 10,
   "metadata": {},
   "outputs": [
    {
     "name": "stdout",
     "output_type": "stream",
     "text": [
      "Moving from 25% images from train to test...\n",
      "14 human_ear\n",
      "41 human_eye\n",
      "42 human_feet\n",
      "43 human_finger\n",
      "37 human_mouth\n",
      "Move Complete.\n"
     ]
    }
   ],
   "source": [
    "count = 0\n",
    "print('Moving from 25% images from train to test...')\n",
    "for cls, val in test_classes.items():\n",
    "    for count, jpgfile in enumerate(glob.iglob(os.path.join(src_dir+cls, \"*.jpg\"))):\n",
    "        if count >= val:\n",
    "            break\n",
    "#         shutil.copy(jpgfile, dst_dir+cls)\n",
    "#         os.remove(jpgfile)\n",
    "        \n",
    "    print(count, cls)\n",
    "print('Move Complete.')"
   ]
  }
 ],
 "metadata": {
  "kernelspec": {
   "display_name": "Python 3",
   "language": "python",
   "name": "python3"
  },
  "language_info": {
   "codemirror_mode": {
    "name": "ipython",
    "version": 3
   },
   "file_extension": ".py",
   "mimetype": "text/x-python",
   "name": "python",
   "nbconvert_exporter": "python",
   "pygments_lexer": "ipython3",
   "version": "3.7.6"
  }
 },
 "nbformat": 4,
 "nbformat_minor": 4
}
